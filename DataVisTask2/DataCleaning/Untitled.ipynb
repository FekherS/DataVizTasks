{
 "cells": [
  {
   "cell_type": "code",
   "execution_count": 1,
   "id": "eea10d57-8c65-4361-bf73-d8e7828b451a",
   "metadata": {},
   "outputs": [],
   "source": [
    "import numpy as np # \n",
    "import pandas as pd # data processing, CSV file I/O (e.g. pd.read_csv)\n",
    "import seaborn as sns\n",
    "import matplotlib.pyplot as plt"
   ]
  },
  {
   "cell_type": "code",
   "execution_count": 2,
   "id": "34bcbda8-f427-4fe0-84ea-bbbddfa0cad3",
   "metadata": {},
   "outputs": [
    {
     "name": "stdout",
     "output_type": "stream",
     "text": [
      "Index(['Name of Satellite, Alternate Names',\n",
      "       'Current Official Name of Satellite', 'Country/Org of UN Registry',\n",
      "       'Country of Operator/Owner', 'Operator/Owner', 'Users', 'Purpose',\n",
      "       'Detailed Purpose', 'Class of Orbit', 'Type of Orbit',\n",
      "       'Longitude of GEO (degrees)', 'Perigee (km)', 'Apogee (km)',\n",
      "       'Eccentricity', 'Inclination (degrees)', 'Period (minutes)',\n",
      "       'Launch Mass (kg.)', 'Dry Mass (kg.)', 'Power (watts)',\n",
      "       'Date of Launch', 'Expected Lifetime (yrs.)', 'Contractor',\n",
      "       'Country of Contractor', 'Launch Site', 'Launch Vehicle',\n",
      "       'COSPAR Number', 'NORAD Number', 'Comments', 'Unnamed: 28',\n",
      "       'Source Used for Orbital Data', 'Source', 'Source.1', 'Source.2',\n",
      "       'Source.3', 'Source.4', 'Source.5', 'Source.6', 'Unnamed: 37',\n",
      "       'Unnamed: 38', 'Unnamed: 39', 'Unnamed: 40', 'Unnamed: 41',\n",
      "       'Unnamed: 42', 'Unnamed: 43', 'Unnamed: 44', 'Unnamed: 45',\n",
      "       'Unnamed: 46', 'Unnamed: 47', 'Unnamed: 48', 'Unnamed: 49',\n",
      "       'Unnamed: 50', 'Unnamed: 51', 'Unnamed: 52', 'Unnamed: 53',\n",
      "       'Unnamed: 54', 'Unnamed: 55', 'Unnamed: 56', 'Unnamed: 57',\n",
      "       'Unnamed: 58', 'Unnamed: 59', 'Unnamed: 60', 'Unnamed: 61',\n",
      "       'Unnamed: 62', 'Unnamed: 63', 'Unnamed: 64', 'Unnamed: 65',\n",
      "       'Unnamed: 66', 'Unnamed: 67'],\n",
      "      dtype='object')\n"
     ]
    }
   ],
   "source": [
    "UCSDB=pd.read_excel('./uncleanData.xlsx',index_col=None, thousands=',')\n",
    "print( UCSDB.columns )"
   ]
  },
  {
   "cell_type": "code",
   "execution_count": 3,
   "id": "533182d0-34d1-4876-ac4d-d99e8f9b2ffc",
   "metadata": {},
   "outputs": [
    {
     "name": "stdout",
     "output_type": "stream",
     "text": [
      "<class 'pandas.core.frame.DataFrame'>\n",
      "RangeIndex: 7560 entries, 0 to 7559\n",
      "Data columns (total 27 columns):\n",
      " #   Column                              Non-Null Count  Dtype  \n",
      "---  ------                              --------------  -----  \n",
      " 0   Name of Satellite, Alternate Names  7560 non-null   object \n",
      " 1   Current Official Name of Satellite  7560 non-null   object \n",
      " 2   Country/Org of UN Registry          7559 non-null   object \n",
      " 3   Country of Operator/Owner           7560 non-null   object \n",
      " 4   Operator/Owner                      7560 non-null   object \n",
      " 5   Users                               7560 non-null   object \n",
      " 6   Purpose                             7560 non-null   object \n",
      " 7   Detailed Purpose                    1254 non-null   object \n",
      " 8   Class of Orbit                      7560 non-null   object \n",
      " 9   Type of Orbit                       6909 non-null   object \n",
      " 10  Longitude of GEO (degrees)          7557 non-null   float64\n",
      " 11  Perigee (km)                        7553 non-null   float64\n",
      " 12  Apogee (km)                         7553 non-null   float64\n",
      " 13  Eccentricity                        7549 non-null   float64\n",
      " 14  Inclination (degrees)               7556 non-null   float64\n",
      " 15  Period (minutes)                    7504 non-null   float64\n",
      " 16  Launch Mass (kg.)                   7315 non-null   float64\n",
      " 17  Dry Mass (kg.)                      767 non-null    object \n",
      " 18  Power (watts)                       579 non-null    object \n",
      " 19  Date of Launch                      7559 non-null   object \n",
      " 20  Expected Lifetime (yrs.)            5450 non-null   float64\n",
      " 21  Contractor                          7560 non-null   object \n",
      " 22  Country of Contractor               7560 non-null   object \n",
      " 23  Launch Site                         7560 non-null   object \n",
      " 24  Launch Vehicle                      7560 non-null   object \n",
      " 25  COSPAR Number                       7560 non-null   object \n",
      " 26  NORAD Number                        7560 non-null   int64  \n",
      "dtypes: float64(8), int64(1), object(18)\n",
      "memory usage: 1.6+ MB\n"
     ]
    }
   ],
   "source": [
    "UCSDB.drop(list(UCSDB.filter(regex='Source|Unnamed')), axis=1, inplace=True)\n",
    "UCSDB.drop(columns=['Comments'], inplace=True)\n",
    "UCSDB.convert_dtypes()\n",
    "UCSDB.info()"
   ]
  },
  {
   "cell_type": "code",
   "execution_count": 4,
   "id": "11cea2c4-15b3-44d0-a976-e1b8935dae69",
   "metadata": {},
   "outputs": [
    {
     "data": {
      "text/plain": [
       "Class of Orbit  Type of Orbit             \n",
       "LEO             NON-POLAR INCLINED            3942\n",
       "                SUN-SYNCHRONOUS               1688\n",
       "                POLAR                         1096\n",
       "MEO             NON-POLAR INCLINED              98\n",
       "ELLIPTICAL      MOLNIYA                         23\n",
       "MEO             EQUATORIAL                      20\n",
       "LEO             EQUATORIAL                      18\n",
       "ELLIPTICAL      DEEP HIGHLY ECCENTRIC            9\n",
       "LEO             ELLIPTICAL                       5\n",
       "ELLIPTICAL      SUN-SYNCHRONOUS                  4\n",
       "LEO             SUN-SYNCHRONOUS NEAR POLAR       2\n",
       "ELLIPTICAL      NON-POLAR INCLINED               2\n",
       "                CISLUNAR                         1\n",
       "LEO             RETROGRADE                       1\n",
       "Name: count, dtype: int64"
      ]
     },
     "execution_count": 4,
     "metadata": {},
     "output_type": "execute_result"
    }
   ],
   "source": [
    "UCSDB['Class of Orbit'] = UCSDB['Class of Orbit'].str.upper().astype('category')\n",
    "UCSDB['Type of Orbit'] = UCSDB['Type of Orbit'].str.upper().astype('category')\n",
    "UCSDB[['Class of Orbit', 'Type of Orbit']].value_counts()"
   ]
  },
  {
   "cell_type": "code",
   "execution_count": 5,
   "id": "ba977435-a39e-4b2d-8722-d74978ff72d5",
   "metadata": {},
   "outputs": [
    {
     "data": {
      "text/plain": [
       "Users\n",
       "Commercial                        6081\n",
       "Government                         559\n",
       "Military                           458\n",
       "Civil                              160\n",
       "Government/Commercial               98\n",
       "Military/Commercial                 84\n",
       "Military/Government                 60\n",
       "Government/Civil                    44\n",
       "Military/Civil                      10\n",
       "Commercial/Civil                     5\n",
       "Government/Commercial/Military       1\n",
       "Name: count, dtype: int64"
      ]
     },
     "execution_count": 5,
     "metadata": {},
     "output_type": "execute_result"
    }
   ],
   "source": [
    "replace_map = {\n",
    "\t'Commercial/Government': 'Government/Commercial',\n",
    "\t'Commercial/Military': 'Military/Commercial',\n",
    "\t'Civil/Military': 'Military/Civil',\n",
    "\t'Civil/Commercial': 'Commercial/Civil',\n",
    "\t'Civil/Government': 'Government/Civil',\n",
    "\t'Government/Military': 'Military/Government'\n",
    "}\n",
    "UCSDB['Users'] = UCSDB['Users'].str.strip()\n",
    "\n",
    "UCSDB['Users'] = UCSDB['Users'].replace(replace_map)\n",
    "UCSDB['Users'].value_counts()"
   ]
  },
  {
   "cell_type": "code",
   "execution_count": 6,
   "id": "89548456-3a81-410f-bfe1-7bc634fb5410",
   "metadata": {},
   "outputs": [],
   "source": [
    "UCSDB['Purpose'] = UCSDB['Purpose'].str.upper().astype('string')\n",
    "UCSDB['Detailed Purpose'] = UCSDB['Detailed Purpose'].str.upper().astype('string')\n",
    "UCSDB['Operator/Owner'] = UCSDB['Operator/Owner'].str.strip().astype('string')"
   ]
  },
  {
   "cell_type": "code",
   "execution_count": 7,
   "id": "82e8f1ce-a840-46a8-a9d1-8e2e2db6287a",
   "metadata": {},
   "outputs": [],
   "source": [
    "UCSDB[['Expected Lifetime (yrs.)','Dry Mass (kg.)', 'Launch Mass (kg.)', 'Eccentricity', 'Inclination (degrees)','Period (minutes)', 'Power (watts)']]=\\\n",
    "    UCSDB[['Expected Lifetime (yrs.)','Dry Mass (kg.)', 'Launch Mass (kg.)', 'Eccentricity', 'Inclination (degrees)','Period (minutes)', 'Power (watts)']]\\\n",
    "                                                                                            .apply(pd.to_numeric,errors='coerce')\n"
   ]
  },
  {
   "cell_type": "code",
   "execution_count": 8,
   "id": "8034e19d-4213-4faf-ad89-48892dd2d970",
   "metadata": {},
   "outputs": [
    {
     "name": "stdout",
     "output_type": "stream",
     "text": [
      "240    NaT\n",
      "349    NaT\n",
      "7186   NaT\n",
      "Name: Date of Launch, dtype: datetime64[ns]\n"
     ]
    }
   ],
   "source": [
    "parsed_date_of_launch = pd.to_datetime(UCSDB['Date of Launch'], errors='coerce').sort_values()\n",
    "# determine if there are any data points not correctly formatted\n",
    "print( parsed_date_of_launch.loc[ np.isnat(parsed_date_of_launch) ] )\n"
   ]
  },
  {
   "cell_type": "code",
   "execution_count": 9,
   "id": "ec020993-309f-48ff-95be-cfbb1711e1b7",
   "metadata": {},
   "outputs": [
    {
     "data": {
      "text/html": [
       "<div>\n",
       "<style scoped>\n",
       "    .dataframe tbody tr th:only-of-type {\n",
       "        vertical-align: middle;\n",
       "    }\n",
       "\n",
       "    .dataframe tbody tr th {\n",
       "        vertical-align: top;\n",
       "    }\n",
       "\n",
       "    .dataframe thead th {\n",
       "        text-align: right;\n",
       "    }\n",
       "</style>\n",
       "<table border=\"1\" class=\"dataframe\">\n",
       "  <thead>\n",
       "    <tr style=\"text-align: right;\">\n",
       "      <th></th>\n",
       "      <th>Name of Satellite, Alternate Names</th>\n",
       "      <th>NORAD Number</th>\n",
       "      <th>Date of Launch</th>\n",
       "    </tr>\n",
       "  </thead>\n",
       "  <tbody>\n",
       "    <tr>\n",
       "      <th>240</th>\n",
       "      <td>BlackSky Global 5</td>\n",
       "      <td>55983</td>\n",
       "      <td>NaN</td>\n",
       "    </tr>\n",
       "    <tr>\n",
       "      <th>349</th>\n",
       "      <td>Cicero-8 (Community Initiative for Cellular Ea...</td>\n",
       "      <td>43737</td>\n",
       "      <td>11/29/018</td>\n",
       "    </tr>\n",
       "    <tr>\n",
       "      <th>7186</th>\n",
       "      <td>Tianmu-1 01</td>\n",
       "      <td>55134</td>\n",
       "      <td>1/9//2023</td>\n",
       "    </tr>\n",
       "  </tbody>\n",
       "</table>\n",
       "</div>"
      ],
      "text/plain": [
       "                     Name of Satellite, Alternate Names  NORAD Number  \\\n",
       "240                                   BlackSky Global 5         55983   \n",
       "349   Cicero-8 (Community Initiative for Cellular Ea...         43737   \n",
       "7186                                        Tianmu-1 01         55134   \n",
       "\n",
       "     Date of Launch  \n",
       "240             NaN  \n",
       "349       11/29/018  \n",
       "7186      1/9//2023  "
      ]
     },
     "execution_count": 9,
     "metadata": {},
     "output_type": "execute_result"
    }
   ],
   "source": [
    "UCSDB.loc[ np.isnat(parsed_date_of_launch), ['Name of Satellite, Alternate Names','NORAD Number','Date of Launch'] ]"
   ]
  },
  {
   "cell_type": "code",
   "execution_count": 10,
   "id": "dc6dde6c-3203-492f-9880-96626c69c86b",
   "metadata": {},
   "outputs": [
    {
     "data": {
      "text/plain": [
       "240     2023-03-24 00:00:00\n",
       "349     2018-11-29 00:00:00\n",
       "7186    2023-09-01 00:00:00\n",
       "Name: Date of Launch, dtype: object"
      ]
     },
     "execution_count": 10,
     "metadata": {},
     "output_type": "execute_result"
    }
   ],
   "source": [
    "UCSDB.loc[ np.isnat(parsed_date_of_launch), 'Date of Launch'] = pd.to_datetime([\"03/24/2023\", \"11/29/2018\", \"09/01/2023\"])\n",
    "UCSDB.loc[ np.isnat(parsed_date_of_launch) ]['Date of Launch']"
   ]
  },
  {
   "cell_type": "code",
   "execution_count": 11,
   "id": "d2ac8de2-b99c-4e85-b829-8f1b3998f2bf",
   "metadata": {},
   "outputs": [
    {
     "name": "stdout",
     "output_type": "stream",
     "text": [
      "<class 'pandas.core.frame.DataFrame'>\n",
      "RangeIndex: 7560 entries, 0 to 7559\n",
      "Data columns (total 27 columns):\n",
      " #   Column                              Non-Null Count  Dtype   \n",
      "---  ------                              --------------  -----   \n",
      " 0   Name of Satellite, Alternate Names  7560 non-null   object  \n",
      " 1   Current Official Name of Satellite  7560 non-null   object  \n",
      " 2   Country/Org of UN Registry          7559 non-null   object  \n",
      " 3   Country of Operator/Owner           7560 non-null   object  \n",
      " 4   Operator/Owner                      7560 non-null   string  \n",
      " 5   Users                               7560 non-null   object  \n",
      " 6   Purpose                             7560 non-null   string  \n",
      " 7   Detailed Purpose                    1254 non-null   string  \n",
      " 8   Class of Orbit                      7560 non-null   category\n",
      " 9   Type of Orbit                       6909 non-null   category\n",
      " 10  Longitude of GEO (degrees)          7557 non-null   float64 \n",
      " 11  Perigee (km)                        7553 non-null   float64 \n",
      " 12  Apogee (km)                         7553 non-null   float64 \n",
      " 13  Eccentricity                        7549 non-null   float64 \n",
      " 14  Inclination (degrees)               7556 non-null   float64 \n",
      " 15  Period (minutes)                    7504 non-null   float64 \n",
      " 16  Launch Mass (kg.)                   7315 non-null   float64 \n",
      " 17  Dry Mass (kg.)                      764 non-null    float64 \n",
      " 18  Power (watts)                       557 non-null    float64 \n",
      " 19  Date of Launch                      7560 non-null   object  \n",
      " 20  Expected Lifetime (yrs.)            5450 non-null   float64 \n",
      " 21  Contractor                          7560 non-null   object  \n",
      " 22  Country of Contractor               7560 non-null   object  \n",
      " 23  Launch Site                         7560 non-null   object  \n",
      " 24  Launch Vehicle                      7560 non-null   object  \n",
      " 25  COSPAR Number                       7560 non-null   object  \n",
      " 26  NORAD Number                        7560 non-null   int64   \n",
      "dtypes: category(2), float64(10), int64(1), object(11), string(3)\n",
      "memory usage: 1.5+ MB\n"
     ]
    }
   ],
   "source": [
    "UCSDB.info()"
   ]
  },
  {
   "cell_type": "code",
   "execution_count": 12,
   "id": "80890de8-a5cc-45ac-855c-e3316c29f0d6",
   "metadata": {},
   "outputs": [
    {
     "data": {
      "text/plain": [
       "Country/Org of UN Registry\n",
       "USA                     4991\n",
       "NR                       868\n",
       "United Kingdom           655\n",
       "China                    319\n",
       "Russia                   166\n",
       "France                    82\n",
       "Japan                     71\n",
       "India                     49\n",
       "Luxembourg                39\n",
       "Canada                    34\n",
       "Uruguay                   33\n",
       "Germany                   32\n",
       "ESA                       24\n",
       "Finland                   19\n",
       "Brazil                    17\n",
       "Australia                 14\n",
       "South Korea               13\n",
       "United Arab Emirates      11\n",
       "Spain                     11\n",
       "Italy                     10\n",
       "Saudi Arabia              10\n",
       "Norway                     8\n",
       "Turkey                     7\n",
       "Mexico                     6\n",
       "Indonesia                  5\n",
       "Lithuania                  5\n",
       "Denmark                    5\n",
       "Belgium                    5\n",
       "Algeria                    5\n",
       "EUMETSAT                   5\n",
       "Argentina                  3\n",
       "Pakistan                   3\n",
       "South Africa               3\n",
       "Azerbaijan                 2\n",
       "Belarus                    2\n",
       "Malaysia                   2\n",
       "Nigeria                    2\n",
       "Sweden                     2\n",
       "Netherlands                1\n",
       "Colombia                   1\n",
       "Ethiopia                   1\n",
       "Inda                       1\n",
       "United KIngdom             1\n",
       "EUMETSAT/ESA               1\n",
       "Czech Republic             1\n",
       "Kazakhstan                 1\n",
       "Laos                       1\n",
       "Greece                     1\n",
       "New Zealand                1\n",
       "Peru                       1\n",
       "Chile                      1\n",
       "Thailand                   1\n",
       "Egypt                      1\n",
       "Iraq                       1\n",
       "Bolivia                    1\n",
       "Austria                    1\n",
       "Israel                     1\n",
       "Venezuela                  1\n",
       "China/Sri Lanka            1\n",
       "Name: count, dtype: int64"
      ]
     },
     "execution_count": 12,
     "metadata": {},
     "output_type": "execute_result"
    }
   ],
   "source": [
    "UCSDB['Country/Org of UN Registry'] = UCSDB['Country/Org of UN Registry'].apply(\n",
    "    lambda x: 'NR' if pd.notnull(x) and str(x).strip().startswith('NR') else x\n",
    ")\n",
    "UCSDB['Country/Org of UN Registry'].value_counts()"
   ]
  },
  {
   "cell_type": "code",
   "execution_count": 13,
   "id": "0eb26ac6-7139-4212-a7aa-dd19603375cd",
   "metadata": {},
   "outputs": [],
   "source": [
    "UCSDB['Launch Site'] = UCSDB['Launch Site'].str.strip()"
   ]
  },
  {
   "cell_type": "code",
   "execution_count": 14,
   "id": "be2ec6c1-c83f-4971-9b09-68ac51d5bd66",
   "metadata": {},
   "outputs": [
    {
     "name": "stdout",
     "output_type": "stream",
     "text": [
      "[]\n"
     ]
    }
   ],
   "source": [
    "launch_site_to_country = {\n",
    "\t'Cape Canaveral': 'United States',\n",
    "\t'Vandenberg AFB': 'United States',\n",
    "\t'Vandeberg AFB': 'United States',  # typo variant\n",
    "\t'Wallops Island Flight Facility': 'United States',\n",
    "\t'Mid-Atlantic Regional Spaceport/Wallops Island': 'United States',\n",
    "\t'Kodiak Island': 'United States',\n",
    "\t'Kodiak Launch Complex': 'United States',\n",
    "\t'Antares': 'United States',  # should check this row — probably Orbital ATK's pad, USA\n",
    "\t'Orbital ATK L-1011': 'United States',\n",
    "\t'Cygnus': 'United States',\n",
    "\t'International Space Station - Cygnus': 'International',\n",
    "\t'International Space Station': 'International',\n",
    "\t'Stargazer L-1011': 'United States',\n",
    "\t'Rocket Lab Launch Complex 1': 'New Zealand',\n",
    "\t'Rocket Lab Launch Complex 1B': 'New Zealand',\n",
    "\t'Baikonur Cosmodrome': 'Kazakhstan',\n",
    "\t'Plesetsk Cosmodrome': 'Russia',\n",
    "\t'Vostochny Cosmodrome': 'Russia',\n",
    "\t'Svobodny Cosmodrome': 'Russia',\n",
    "\t'Dombarovsky Air Base': 'Russia',\n",
    "\t'Guiana Space Center': 'French Guiana',\n",
    "\t'Satish Dhawan Space Centre': 'India',\n",
    "\t'Satish Dhawan Space Center': 'India',\n",
    "\t'Jiuquan Satellite Launch Center': 'China',\n",
    "\t'Taiyuan Launch Center': 'China',\n",
    "\t'Taiyan Launch Center': 'China',  # typo variant\n",
    "\t'Xichang Satellite Launch Center': 'China',\n",
    "\t'Wenchang Space Center': 'China',\n",
    "\t'Wenchang Satellite Launch Center': 'China',\n",
    "\t'Yellow Sea Launch Platform': 'China',\n",
    "\t'Tanegashima Space Center': 'Japan',\n",
    "\t'Uchinoura Space Center': 'Japan',\n",
    "\t'Naro Space Center': 'South Korea',\n",
    "\t'Palmachim Launch Complex': 'Israel',\n",
    "\t'Kwajalein Island': 'Marshall Islands',\n",
    "\t'Sea Launch Odyssey': 'International Waters',\n",
    "\t'Virgin Orbit': 'United States',  # launched from air, USA-based\n",
    "\t'FANTM-RAiL [Xtenti]': 'United States',\n",
    "\t'FANTM-RAiL (Xtenti)': 'United States',\n",
    "\t'Shahroud Missile Range': 'Iran'\n",
    "}\n",
    "UCSDB['Launch Country'] = UCSDB['Launch Site'].map(launch_site_to_country)\n",
    "print(UCSDB[UCSDB['Launch Country'].isnull()]['Launch Site'].unique())\n"
   ]
  },
  {
   "cell_type": "code",
   "execution_count": 15,
   "id": "b63b3586-147a-41ed-ac6a-3dd572834fc0",
   "metadata": {},
   "outputs": [
    {
     "name": "stdout",
     "output_type": "stream",
     "text": [
      "<class 'pandas.core.frame.DataFrame'>\n",
      "RangeIndex: 7560 entries, 0 to 7559\n",
      "Data columns (total 28 columns):\n",
      " #   Column                              Non-Null Count  Dtype   \n",
      "---  ------                              --------------  -----   \n",
      " 0   Name of Satellite, Alternate Names  7560 non-null   object  \n",
      " 1   Current Official Name of Satellite  7560 non-null   object  \n",
      " 2   Country/Org of UN Registry          7559 non-null   object  \n",
      " 3   Country of Operator/Owner           7560 non-null   object  \n",
      " 4   Operator/Owner                      7560 non-null   string  \n",
      " 5   Users                               7560 non-null   object  \n",
      " 6   Purpose                             7560 non-null   string  \n",
      " 7   Detailed Purpose                    1254 non-null   string  \n",
      " 8   Class of Orbit                      7560 non-null   category\n",
      " 9   Type of Orbit                       6909 non-null   category\n",
      " 10  Longitude of GEO (degrees)          7557 non-null   float64 \n",
      " 11  Perigee (km)                        7553 non-null   float64 \n",
      " 12  Apogee (km)                         7553 non-null   float64 \n",
      " 13  Eccentricity                        7549 non-null   float64 \n",
      " 14  Inclination (degrees)               7556 non-null   float64 \n",
      " 15  Period (minutes)                    7504 non-null   float64 \n",
      " 16  Launch Mass (kg.)                   7315 non-null   float64 \n",
      " 17  Dry Mass (kg.)                      764 non-null    float64 \n",
      " 18  Power (watts)                       557 non-null    float64 \n",
      " 19  Date of Launch                      7560 non-null   object  \n",
      " 20  Expected Lifetime (yrs.)            5450 non-null   float64 \n",
      " 21  Contractor                          7560 non-null   object  \n",
      " 22  Country of Contractor               7560 non-null   object  \n",
      " 23  Launch Site                         7560 non-null   object  \n",
      " 24  Launch Vehicle                      7560 non-null   object  \n",
      " 25  COSPAR Number                       7560 non-null   object  \n",
      " 26  NORAD Number                        7560 non-null   int64   \n",
      " 27  Launch Country                      7560 non-null   object  \n",
      "dtypes: category(2), float64(10), int64(1), object(12), string(3)\n",
      "memory usage: 1.5+ MB\n"
     ]
    }
   ],
   "source": [
    "UCSDB.info()"
   ]
  },
  {
   "cell_type": "code",
   "execution_count": 16,
   "id": "7dfe1ab2-c301-4ddd-910a-ddf124f2f4b5",
   "metadata": {},
   "outputs": [],
   "source": [
    "def normalize(val):\n",
    "    # If there is a slash, take the second part\n",
    "    if '/' in val:\n",
    "        val = val.split('/')[1]\n",
    "    # Remove trailing numbers\n",
    "    val = ''.join(filter(lambda x: not x.isdigit(), val))\n",
    "    # Trim spaces\n",
    "    val = val.strip()\n",
    "    # Normalize Spacex variations\n",
    "    if val.lower() == 'spacex':\n",
    "        val = 'SpaceX'\n",
    "    return val\n",
    "UCSDB['Operator/Owner'] = UCSDB['Operator/Owner'].apply(normalize)\n"
   ]
  },
  {
   "cell_type": "code",
   "execution_count": 25,
   "id": "3ba9ee2f-32f3-400d-bec5-b3bc58dd9215",
   "metadata": {},
   "outputs": [],
   "source": [
    "def normalize2(val):\n",
    "    val_lower = val.lower()\n",
    "    if 'nasa' in val_lower or 'national aeronautics and space administration' in val_lower:\n",
    "        val = 'NASA'\n",
    "    return val\n",
    "UCSDB['Operator/Owner'] = UCSDB['Operator/Owner'].apply(normalize2)\n"
   ]
  },
  {
   "cell_type": "code",
   "execution_count": 26,
   "id": "dc366408-984d-41e4-8318-c6a6dfae4907",
   "metadata": {},
   "outputs": [],
   "source": [
    "UCSDB.to_csv('cleanData.csv', index=False)\n"
   ]
  },
  {
   "cell_type": "code",
   "execution_count": null,
   "id": "fa403c56-556a-4cee-b8b8-bb69fd60b53f",
   "metadata": {},
   "outputs": [],
   "source": []
  }
 ],
 "metadata": {
  "kernelspec": {
   "display_name": "Python 3 (ipykernel)",
   "language": "python",
   "name": "python3"
  },
  "language_info": {
   "codemirror_mode": {
    "name": "ipython",
    "version": 3
   },
   "file_extension": ".py",
   "mimetype": "text/x-python",
   "name": "python",
   "nbconvert_exporter": "python",
   "pygments_lexer": "ipython3",
   "version": "3.13.3"
  }
 },
 "nbformat": 4,
 "nbformat_minor": 5
}
