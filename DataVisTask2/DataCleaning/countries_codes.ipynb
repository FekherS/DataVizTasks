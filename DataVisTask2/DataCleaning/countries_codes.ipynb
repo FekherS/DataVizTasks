{
 "cells": [
  {
   "cell_type": "code",
   "execution_count": 1,
   "id": "70bdefed-d284-49b2-8116-03912b160f1d",
   "metadata": {},
   "outputs": [],
   "source": [
    "import numpy as np # \n",
    "import pandas as pd # data processing, CSV file I/O (e.g. pd.read_csv)\n",
    "import seaborn as sns\n",
    "import matplotlib.pyplot as plt"
   ]
  },
  {
   "cell_type": "code",
   "execution_count": 3,
   "id": "3ae648a2-9753-4fc4-a714-324e64ab071e",
   "metadata": {},
   "outputs": [
    {
     "name": "stdout",
     "output_type": "stream",
     "text": [
      "Index(['FIFA', 'Dial', 'ISO3166-1-Alpha-3', 'MARC', 'is_independent',\n",
      "       'ISO3166-1-numeric', 'GAUL', 'FIPS', 'WMO', 'ISO3166-1-Alpha-2', 'ITU',\n",
      "       'IOC', 'DS', 'UNTERM Spanish Formal', 'Global Code',\n",
      "       'Intermediate Region Code', 'official_name_fr', 'UNTERM French Short',\n",
      "       'ISO4217-currency_name', 'UNTERM Russian Formal',\n",
      "       'UNTERM English Short', 'ISO4217-currency_alphabetic_code',\n",
      "       'Small Island Developing States (SIDS)', 'UNTERM Spanish Short',\n",
      "       'ISO4217-currency_numeric_code', 'UNTERM Chinese Formal',\n",
      "       'UNTERM French Formal', 'UNTERM Russian Short', 'M49',\n",
      "       'Sub-region Code', 'Region Code', 'official_name_ar',\n",
      "       'ISO4217-currency_minor_unit', 'UNTERM Arabic Formal',\n",
      "       'UNTERM Chinese Short', 'Land Locked Developing Countries (LLDC)',\n",
      "       'Intermediate Region Name', 'official_name_es', 'UNTERM English Formal',\n",
      "       'official_name_cn', 'official_name_en', 'ISO4217-currency_country_name',\n",
      "       'Least Developed Countries (LDC)', 'Region Name', 'UNTERM Arabic Short',\n",
      "       'Sub-region Name', 'official_name_ru', 'Global Name', 'Capital',\n",
      "       'Continent', 'TLD', 'Languages', 'Geoname ID', 'CLDR display name',\n",
      "       'EDGAR', 'wikidata_id'],\n",
      "      dtype='object')\n"
     ]
    }
   ],
   "source": [
    "CODES=pd.read_csv('./country_codes.csv',index_col=None, thousands=',')\n",
    "print(CODES.columns )"
   ]
  },
  {
   "cell_type": "code",
   "execution_count": 4,
   "id": "b1b63f36-9672-4e2c-920b-c9171476aca3",
   "metadata": {},
   "outputs": [
    {
     "name": "stdout",
     "output_type": "stream",
     "text": [
      "   numeric_code    country_name alpha3_code\n",
      "0             4     Afghanistan         AFG\n",
      "1           248   Åland Islands         ALA\n",
      "2             8         Albania         ALB\n",
      "3            12         Algeria         DZA\n",
      "4            16  American Samoa         ASM\n"
     ]
    }
   ],
   "source": [
    "# Select only the required columns\n",
    "country_simple = CODES[['ISO3166-1-numeric', 'official_name_en', 'ISO3166-1-Alpha-3']]\n",
    "\n",
    "# Drop rows with any null/missing values in these columns\n",
    "country_simple = country_simple.dropna(subset=['ISO3166-1-numeric', 'official_name_en', 'ISO3166-1-Alpha-3'])\n",
    "\n",
    "# Optional: rename columns for clarity\n",
    "country_simple.columns = ['numeric_code', 'country_name', 'alpha3_code']\n",
    "\n",
    "# Preview\n",
    "print(country_simple.head())"
   ]
  },
  {
   "cell_type": "code",
   "execution_count": 5,
   "id": "51cebf2c-9551-4ab3-8f6a-0187f33210ea",
   "metadata": {},
   "outputs": [],
   "source": [
    "\n",
    "# Save the cleaned data if needed\n",
    "country_simple.to_csv('./country_codes_simple_cleaned.csv', index=False)"
   ]
  },
  {
   "cell_type": "code",
   "execution_count": 7,
   "id": "68ca343d-24de-411e-8e7a-c06b4ce0b857",
   "metadata": {},
   "outputs": [],
   "source": [
    "satellite_df=pd.read_csv('./UCSDB.csv',index_col=None, thousands=',')\n"
   ]
  },
  {
   "cell_type": "code",
   "execution_count": 8,
   "id": "322d531a-51d7-44a2-bd4e-bb7ee359c389",
   "metadata": {},
   "outputs": [
    {
     "name": "stdout",
     "output_type": "stream",
     "text": [
      "Launch countries not found: ['United States' 'Russia' 'International' 'International Waters' 'Iran'\n",
      " 'South Korea']\n",
      "Operator countries not found: ['United States' 'United Kingdom' 'Multinational' 'Russia' 'South Korea'\n",
      " 'Czech Republic' 'Iran' 'Laos' 'Vietnam' 'Bolivia' 'Venezuela']\n"
     ]
    }
   ],
   "source": [
    "# Convert country names in country_codes_df to a set for fast lookup\n",
    "valid_countries = set(country_simple['country_name'])\n",
    "\n",
    "# Check launch_country presence\n",
    "satellite_df['launch_country_in_codes'] = satellite_df['launch_country'].apply(lambda x: x in valid_countries)\n",
    "\n",
    "# Check operator_country presence\n",
    "satellite_df['operator_country_in_codes'] = satellite_df['operator_country'].apply(lambda x: x in valid_countries)\n",
    "\n",
    "# Optionally, print counts of countries not found\n",
    "print(\"Launch countries not found:\", satellite_df.loc[~satellite_df['launch_country_in_codes'], 'launch_country'].unique())\n",
    "print(\"Operator countries not found:\", satellite_df.loc[~satellite_df['operator_country_in_codes'], 'operator_country'].unique())"
   ]
  },
  {
   "cell_type": "code",
   "execution_count": null,
   "id": "235426ab-004d-4c6c-b79c-4601e448811d",
   "metadata": {},
   "outputs": [],
   "source": []
  }
 ],
 "metadata": {
  "kernelspec": {
   "display_name": "Python 3 (ipykernel)",
   "language": "python",
   "name": "python3"
  },
  "language_info": {
   "codemirror_mode": {
    "name": "ipython",
    "version": 3
   },
   "file_extension": ".py",
   "mimetype": "text/x-python",
   "name": "python",
   "nbconvert_exporter": "python",
   "pygments_lexer": "ipython3",
   "version": "3.13.3"
  }
 },
 "nbformat": 4,
 "nbformat_minor": 5
}
